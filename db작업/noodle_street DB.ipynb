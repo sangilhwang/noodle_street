{
 "cells": [
  {
   "cell_type": "code",
   "execution_count": 1,
   "id": "e077dadf",
   "metadata": {},
   "outputs": [],
   "source": [
    "import sqlite3\n",
    "import os\n",
    "from datetime import date\n",
    "from bs4 import BeautifulSoup\n",
    "from urllib.request import urlopen\n",
    "from selenium import webdriver\n",
    "from selenium.webdriver.common.by import By\n",
    "from selenium.webdriver.common.keys import Keys"
   ]
  },
  {
   "cell_type": "code",
   "execution_count": 31,
   "id": "8c39241b",
   "metadata": {},
   "outputs": [],
   "source": [
    "# conn = sqlite3.connect('C:/Users/ITSC/Desktop/Project/MiniProject1/noodle_street/web/db.sqlite3')\n",
    "conn = sqlite3.connect(\"C:/Users/Jayden Jeong/OneDrive/바탕 화면/project/Mini_project_1/git/web/db.sqlite3\")\n",
    "cur = conn.cursor()"
   ]
  },
  {
   "cell_type": "code",
   "execution_count": 16,
   "id": "ad93022d",
   "metadata": {},
   "outputs": [
    {
     "name": "stdout",
     "output_type": "stream",
     "text": [
      "[(1, 'pbkdf2_sha256$390000$xM4xz7jyachDrBFgRL1GY9$YEzRB4ZapW9QjSbwujWLN49vYLNK677B9JCrjO+7jzo=', '2024-02-15 01:54:54.746576', 1, 'chris', '상일', '황', 'sangil9959@gmail.com', 1, 1, '2024-02-14 15:13:36', '1995-02-16', ''), (2, 'pbkdf2_sha256$390000$p8vaWRagmVIeIWOcJccVfy$xEb6wG+YEnxlP9GXCzoEACjB6lOzDRbn4oOv1hgPCkM=', '2024-02-15 02:01:35.321710', 0, 'chris1', '상일', '황', 'sangil9959@naver.com', 0, 1, '2024-02-15 01:54:33.867212', '1995-02-16', 'users/profile/따봉티콘.jfif'), (3, 'password123', None, 0, 'john_doe', 'John', 'Doe', 'john@example.com', 0, 1, '2024-02-15', '1990-01-01', 'users/profile/default.jpg'), (4, 'password456', None, 0, 'jane_smith', 'Jane', 'Smith', 'jane@example.com', 0, 1, '2024-02-15', '1985-05-15', 'users/profile/default.jpg')]\n"
     ]
    }
   ],
   "source": [
    "cur.execute('SELECT * FROM users_user')\n",
    "tables = cur.fetchall()\n",
    "print(tables)"
   ]
  },
  {
   "cell_type": "code",
   "execution_count": 4,
   "id": "c48e1a9e",
   "metadata": {},
   "outputs": [
    {
     "ename": "OperationalError",
     "evalue": "incomplete input",
     "output_type": "error",
     "traceback": [
      "\u001b[1;31m---------------------------------------------------------------------------\u001b[0m",
      "\u001b[1;31mOperationalError\u001b[0m                          Traceback (most recent call last)",
      "Cell \u001b[1;32mIn[4], line 1\u001b[0m\n\u001b[1;32m----> 1\u001b[0m \u001b[43mcur\u001b[49m\u001b[38;5;241;43m.\u001b[39;49m\u001b[43mexecute\u001b[49m\u001b[43m(\u001b[49m\u001b[38;5;124;43m\"\u001b[39;49m\u001b[38;5;124;43mINSERT INTO single_pages_restraunt\u001b[39;49m\u001b[38;5;124;43m\"\u001b[39;49m\u001b[43m)\u001b[49m\n",
      "\u001b[1;31mOperationalError\u001b[0m: incomplete input"
     ]
    }
   ],
   "source": [
    "cur.execute(\"INSERT INTO users_user \")"
   ]
  },
  {
   "cell_type": "code",
   "execution_count": 24,
   "id": "7c346fd7",
   "metadata": {},
   "outputs": [],
   "source": [
    "example_data = [\n",
    "    (\"고미태\", \"서울특별시 용산구 용산동2가 26-10\", \"용산구\", \"010-4876-8432\", False, 5, 3, \"https://wallpapercave.com/wp/wp13509956.jpg\"),\n",
    "    (\"진주집\", \"서울특별시 영등포구 여의도동 36-2\", \"영등포구\", \"02-780-6108\", True, 4.3, 145, \"https://wallpapercave.com/wp/wp13509956.jpg\")\n",
    "]"
   ]
  },
  {
   "cell_type": "code",
   "execution_count": 32,
   "id": "e8451ad5",
   "metadata": {},
   "outputs": [],
   "source": [
    "example_data = [\n",
    "    (\"샘플식당1\", \"서울특별시 영등포구 여의도동 1-1\", \"영등포구\", \"02-1234-1234\", False, 4.2, 11, \"https://wallpapercave.com/wp/wp6540732.jpg\")\n",
    "]"
   ]
  },
  {
   "cell_type": "code",
   "execution_count": 33,
   "id": "beba768a",
   "metadata": {},
   "outputs": [],
   "source": [
    "insert_query = \"\"\"\n",
    "INSERT INTO single_pages_restraunt (name, address, address_gu, phone_no, parking, rating, rating_count, image)\n",
    "VALUES (?, ?, ?, ?, ?, ?, ?, ?);\n",
    "\"\"\""
   ]
  },
  {
   "cell_type": "code",
   "execution_count": 34,
   "id": "691e51c4",
   "metadata": {},
   "outputs": [],
   "source": [
    "for data in example_data:\n",
    "    cur.execute(insert_query, data)"
   ]
  },
  {
   "cell_type": "code",
   "execution_count": 35,
   "id": "a97c8ad6",
   "metadata": {},
   "outputs": [],
   "source": [
    "conn.commit()\n",
    "cur.close()\n",
    "conn.close()"
   ]
  },
  {
   "cell_type": "code",
   "execution_count": 20,
   "id": "043a705c",
   "metadata": {},
   "outputs": [],
   "source": [
    "insert_query = \"\"\"\n",
    "DELETE FROM single_pages_restraunt where name='고미태' or name='진주집';\n",
    "\"\"\""
   ]
  },
  {
   "cell_type": "code",
   "execution_count": 21,
   "id": "7349da93",
   "metadata": {},
   "outputs": [
    {
     "data": {
      "text/plain": [
       "<sqlite3.Cursor at 0x267260fb840>"
      ]
     },
     "execution_count": 21,
     "metadata": {},
     "output_type": "execute_result"
    }
   ],
   "source": [
    "cur.execute(insert_query)"
   ]
  },
  {
   "cell_type": "code",
   "execution_count": 22,
   "id": "edb5896b",
   "metadata": {},
   "outputs": [],
   "source": [
    "conn.commit()\n",
    "cur.close()\n",
    "conn.close()"
   ]
  },
  {
   "cell_type": "code",
   "execution_count": null,
   "id": "64a81b86",
   "metadata": {},
   "outputs": [],
   "source": []
  },
  {
   "cell_type": "code",
   "execution_count": null,
   "id": "609472e7",
   "metadata": {},
   "outputs": [],
   "source": []
  },
  {
   "cell_type": "code",
   "execution_count": null,
   "id": "874126d8",
   "metadata": {},
   "outputs": [],
   "source": []
  },
  {
   "cell_type": "code",
   "execution_count": null,
   "id": "f793a655",
   "metadata": {},
   "outputs": [],
   "source": []
  },
  {
   "cell_type": "code",
   "execution_count": null,
   "id": "3d525727",
   "metadata": {},
   "outputs": [],
   "source": []
  },
  {
   "cell_type": "code",
   "execution_count": null,
   "id": "6460c2eb",
   "metadata": {},
   "outputs": [],
   "source": []
  },
  {
   "cell_type": "code",
   "execution_count": null,
   "id": "b8e17bf2",
   "metadata": {},
   "outputs": [],
   "source": []
  },
  {
   "cell_type": "code",
   "execution_count": null,
   "id": "fb43f149",
   "metadata": {},
   "outputs": [],
   "source": []
  },
  {
   "cell_type": "code",
   "execution_count": 187,
   "id": "83a0c69e",
   "metadata": {},
   "outputs": [
    {
     "data": {
      "text/plain": [
       "['02.16 (금)',\n",
       " '영업시간: 12:00 - 00:00',\n",
       " '브레이크타임: 15:30 - 17:00',\n",
       " '',\n",
       " '02.17 (토)',\n",
       " '영업시간: 12:00 - 00:00',\n",
       " '브레이크타임: 15:30 - 17:00',\n",
       " '',\n",
       " '02.18 (일)',\n",
       " '영업시간: 12:00 - 23:00',\n",
       " '브레이크타임: 15:30 - 17:00',\n",
       " '',\n",
       " '02.19 (월)',\n",
       " '영업시간: 12:00 - 23:00',\n",
       " '브레이크타임: 15:30 - 17:00',\n",
       " '',\n",
       " '02.20 (화)',\n",
       " '영업시간: 12:00 - 23:00',\n",
       " '브레이크타임: 15:30 - 17:00',\n",
       " '',\n",
       " '02.21 (수)',\n",
       " '영업시간: 12:00 - 23:00',\n",
       " '브레이크타임: 15:30 - 17:00',\n",
       " '']"
      ]
     },
     "execution_count": 187,
     "metadata": {},
     "output_type": "execute_result"
    }
   ],
   "source": [
    "hours_raw(\"https://www.diningcode.com/profile.php?rid=hGmRAyyZH7V3\")"
   ]
  },
  {
   "cell_type": "code",
   "execution_count": 182,
   "id": "34ae5d8c",
   "metadata": {},
   "outputs": [],
   "source": [
    "def hours_raw(url):\n",
    "    driver = webdriver.Chrome()\n",
    "    driver.get(url)\n",
    "\n",
    "    plus = driver.find_element(By.CSS_SELECTOR, \"div.busi-hours > p.r > a\")\n",
    "    plus.click()\n",
    "    driver.implicitly_wait(3)\n",
    "\n",
    "    soup = BeautifulSoup(driver.page_source, \"lxml\")\n",
    "\n",
    "    busihours = soup.select(\"div.busi-hours ul.list\")[0].text.strip().split(\"\\n\")\n",
    "    hours = [i.strip() for i in busihours if i != \"\"]\n",
    "    \n",
    "    weekdays = [\"월\", \"화\", \"수\", \"목\", \"금\", \"토\", \"일\"]\n",
    "    \n",
    "    busi_hours = []\n",
    "    \n",
    "    for i in range(len(hours)):\n",
    "        if any(char in hours[i] for char in weekdays) and hours[i] != \"휴무일\":\n",
    "            busi_hours.append(hours[i])\n",
    "\n",
    "            try:\n",
    "                if \"확인 필요\" in hours[i+1]:\n",
    "                    busi_hours.append(hours[i+1])\n",
    "\n",
    "                elif \"휴무일\" in hours[i+1]:\n",
    "                    busi_hours.append(hours[i+1])\n",
    "\n",
    "                elif \"영업시간\" in hours[i+1]:\n",
    "                    busi_hours.append(hours[i+1])\n",
    "\n",
    "            except:\n",
    "                busi_hours.append(\"\")                    \n",
    "                    \n",
    "\n",
    "            try:\n",
    "                if \"브레이크타임\" in hours[i+2]:\n",
    "                    busi_hours.append(hours[i+2])\n",
    "\n",
    "                    \n",
    "                    try:\n",
    "                        if \"라스트오더\" in hours[i+3]:\n",
    "                            busi_hours.append(hours[i+3])\n",
    "\n",
    "                        else:\n",
    "                            busi_hours.append(\"\") \n",
    "\n",
    "                    except:\n",
    "                        busi_hours.append(\"\")\n",
    "                    \n",
    "                elif \"라스트오더\" in hours[i+2]:\n",
    "                    busi_hours.append(\"\")\n",
    "                    busi_hours.append(hours[i+2])\n",
    "\n",
    "                else:\n",
    "                    busi_hours.append(\"\")\n",
    "                    busi_hours.append(\"\")\n",
    "\n",
    "            except:\n",
    "                busi_hours.append(\"\")    \n",
    "                busi_hours.append(\"\")\n",
    "\n",
    "    return busi_hours"
   ]
  },
  {
   "cell_type": "code",
   "execution_count": null,
   "id": "b046e491",
   "metadata": {},
   "outputs": [],
   "source": []
  },
  {
   "cell_type": "code",
   "execution_count": null,
   "id": "f9db5b4e",
   "metadata": {},
   "outputs": [],
   "source": []
  },
  {
   "cell_type": "code",
   "execution_count": null,
   "id": "a3b1b2d0",
   "metadata": {},
   "outputs": [],
   "source": []
  },
  {
   "cell_type": "code",
   "execution_count": null,
   "id": "e898533e",
   "metadata": {},
   "outputs": [],
   "source": []
  },
  {
   "cell_type": "code",
   "execution_count": null,
   "id": "7e5fda54",
   "metadata": {},
   "outputs": [],
   "source": []
  },
  {
   "cell_type": "code",
   "execution_count": null,
   "id": "20caeccc",
   "metadata": {},
   "outputs": [],
   "source": []
  },
  {
   "cell_type": "code",
   "execution_count": null,
   "id": "4cae01c6",
   "metadata": {},
   "outputs": [],
   "source": []
  },
  {
   "cell_type": "code",
   "execution_count": null,
   "id": "1f4ace9a",
   "metadata": {},
   "outputs": [],
   "source": []
  },
  {
   "cell_type": "code",
   "execution_count": null,
   "id": "0525458d",
   "metadata": {},
   "outputs": [],
   "source": []
  },
  {
   "cell_type": "code",
   "execution_count": null,
   "id": "79e409d2",
   "metadata": {},
   "outputs": [],
   "source": []
  },
  {
   "cell_type": "code",
   "execution_count": null,
   "id": "9ab1d7b0",
   "metadata": {},
   "outputs": [],
   "source": []
  },
  {
   "cell_type": "code",
   "execution_count": null,
   "id": "55bd5754",
   "metadata": {},
   "outputs": [],
   "source": []
  }
 ],
 "metadata": {
  "kernelspec": {
   "display_name": "Python 3 (ipykernel)",
   "language": "python",
   "name": "python3"
  },
  "language_info": {
   "codemirror_mode": {
    "name": "ipython",
    "version": 3
   },
   "file_extension": ".py",
   "mimetype": "text/x-python",
   "name": "python",
   "nbconvert_exporter": "python",
   "pygments_lexer": "ipython3",
   "version": "3.10.9"
  }
 },
 "nbformat": 4,
 "nbformat_minor": 5
}
